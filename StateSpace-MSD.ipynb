{
 "cells": [
  {
   "cell_type": "markdown",
   "metadata": {},
   "source": [
    "# Mass Spring Damper Example\n",
    "<img src=\"fig/msd.png\" alt=\"Drawing\" style=\"width: 500px;\" align=\"center\"/>\n",
    "\n",
    "The equation of motion is given as:\n",
    "\n",
    "$m \\ddot{x}(t) + c \\dot{x}(t) + k x(t) = u(t)$\n",
    "\n",
    "You are given the following physical parameters.\n",
    "* c=2 N/(m/s)\n",
    "* k=2 N/m\n",
    "* m=1 kg"
   ]
  },
  {
   "cell_type": "markdown",
   "metadata": {},
   "source": [
    "## Laplace Method for Matrix Exponential"
   ]
  },
  {
   "cell_type": "code",
   "execution_count": 1,
   "metadata": {},
   "outputs": [
    {
     "data": {
      "text/latex": [
       "$$\\left ( \\left[\\begin{matrix}0 & 1\\\\-2 & -2\\end{matrix}\\right], \\quad \\left[\\begin{matrix}0\\\\1\\end{matrix}\\right], \\quad \\left[\\begin{matrix}1 & 0\\end{matrix}\\right], \\quad \\left[\\begin{matrix}0\\end{matrix}\\right]\\right )$$"
      ],
      "text/plain": [
       "⎛⎡0   1 ⎤  ⎡0⎤             ⎞\n",
       "⎜⎢      ⎥, ⎢ ⎥, [1  0], [0]⎟\n",
       "⎝⎣-2  -2⎦  ⎣1⎦             ⎠"
      ]
     },
     "execution_count": 1,
     "metadata": {},
     "output_type": "execute_result"
    }
   ],
   "source": [
    "import matplotlib.pyplot as plt\n",
    "%matplotlib inline\n",
    "import sympy\n",
    "\n",
    "sympy.init_printing()\n",
    "t = sympy.symbols('t', real=True)\n",
    "s = sympy.symbols('s')\n",
    "c = 2\n",
    "k = 2\n",
    "\n",
    "A = sympy.Matrix([[0, 1], [-k, -c]])\n",
    "B = sympy.Matrix([[0], [1]])\n",
    "C = sympy.Matrix([[1, 0]])\n",
    "D = sympy.Matrix([[0]])\n",
    "(A, B, C, D)"
   ]
  },
  {
   "cell_type": "markdown",
   "metadata": {},
   "source": [
    "$G(s) = C(sI - A)^{-1}B + D$"
   ]
  },
  {
   "cell_type": "code",
   "execution_count": 2,
   "metadata": {},
   "outputs": [
    {
     "data": {
      "image/png": "[encoded data removed]",
      "text/latex": [
       "$$\\frac{1}{s \\left(s + 2\\right) + 2}$$"
      ],
      "text/plain": [
       "      1      \n",
       "─────────────\n",
       "s⋅(s + 2) + 2"
      ]
     },
     "execution_count": 2,
     "metadata": {},
     "output_type": "execute_result"
    }
   ],
   "source": [
    "N = (s*sympy.eye(2) - A).inv()\n",
    "G = (C*N*B + D)\n",
    "G.simplify()\n",
    "G = G[0]\n",
    "G"
   ]
  },
  {
   "cell_type": "markdown",
   "metadata": {},
   "source": [
    "Remember from the Laplace table:\n",
    "\n",
    "$\\mathcal{L}^{-1}\\left[ \\dfrac{1}{s - a} \\right] = e^{at}$\n",
    "\n",
    "The same is true for the matrix version of this Laplace transform:\n",
    "\n",
    "$\\mathcal{L}^{-1}\\left[ (sI- A)^{-1} \\right] = e^{At}$"
   ]
  },
  {
   "cell_type": "code",
   "execution_count": 3,
   "metadata": {},
   "outputs": [
    {
     "data": {
      "text/latex": [
       "$$\\left[\\begin{matrix}\\left(\\sin{\\left (t \\right )} + \\cos{\\left (t \\right )}\\right) e^{- t} \\theta\\left(t\\right) & e^{- t} \\sin{\\left (t \\right )} \\theta\\left(t\\right)\\\\- 2 e^{- t} \\sin{\\left (t \\right )} \\theta\\left(t\\right) & \\left(- \\sin{\\left (t \\right )} + \\cos{\\left (t \\right )}\\right) e^{- t} \\theta\\left(t\\right)\\end{matrix}\\right]$$"
      ],
      "text/plain": [
       "⎡                   -t                      -t                          ⎤\n",
       "⎢(sin(t) + cos(t))⋅ℯ  ⋅Heaviside(t)        ℯ  ⋅sin(t)⋅Heaviside(t)      ⎥\n",
       "⎢                                                                       ⎥\n",
       "⎢        -t                                              -t             ⎥\n",
       "⎣    -2⋅ℯ  ⋅sin(t)⋅Heaviside(t)      (-sin(t) + cos(t))⋅ℯ  ⋅Heaviside(t)⎦"
      ]
     },
     "execution_count": 3,
     "metadata": {},
     "output_type": "execute_result"
    }
   ],
   "source": [
    "eAt = sympy.inverse_laplace_transform((s*sympy.eye(2) - A).inv(), s, t)\n",
    "eAt"
   ]
  },
  {
   "cell_type": "code",
   "execution_count": 4,
   "metadata": {},
   "outputs": [
    {
     "data": {
      "image/png": "[encoded data removed]",
      "text/plain": [
       "<Figure size 432x288 with 1 Axes>"
      ]
     },
     "metadata": {
      "needs_background": "light"
     },
     "output_type": "display_data"
    },
    {
     "data": {
      "text/plain": [
       "<sympy.plotting.plot.Plot at 0x7fc805516160>"
      ]
     },
     "execution_count": 4,
     "metadata": {},
     "output_type": "execute_result"
    }
   ],
   "source": [
    "sympy.plot(sympy.Heaviside(t))"
   ]
  },
  {
   "cell_type": "code",
   "execution_count": 5,
   "metadata": {},
   "outputs": [
    {
     "data": {
      "text/latex": [
       "$$\\left[\\begin{matrix}\\left(e^{- t} \\sin{\\left (t \\right )} + e^{- t} \\cos{\\left (t \\right )}\\right) \\theta\\left(t\\right) & e^{- t} \\sin{\\left (t \\right )} \\theta\\left(t\\right)\\\\- 2 e^{- t} \\sin{\\left (t \\right )} \\theta\\left(t\\right) & \\left(- e^{- t} \\sin{\\left (t \\right )} + e^{- t} \\cos{\\left (t \\right )}\\right) \\theta\\left(t\\right)\\end{matrix}\\right]$$"
      ],
      "text/plain": [
       "⎡⎛ -t           -t       ⎞                        -t                          \n",
       "⎢⎝ℯ  ⋅sin(t) + ℯ  ⋅cos(t)⎠⋅Heaviside(t)          ℯ  ⋅sin(t)⋅Heaviside(t)      \n",
       "⎢                                                                             \n",
       "⎢          -t                            ⎛   -t           -t       ⎞          \n",
       "⎣      -2⋅ℯ  ⋅sin(t)⋅Heaviside(t)        ⎝- ℯ  ⋅sin(t) + ℯ  ⋅cos(t)⎠⋅Heaviside\n",
       "\n",
       "   ⎤\n",
       "   ⎥\n",
       "   ⎥\n",
       "   ⎥\n",
       "(t)⎦"
      ]
     },
     "execution_count": 5,
     "metadata": {},
     "output_type": "execute_result"
    }
   ],
   "source": [
    "sympy.Matrix.exp(A*t)*sympy.Heaviside(t)"
   ]
  },
  {
   "cell_type": "markdown",
   "metadata": {},
   "source": [
    "## Spectral Method for Matrix Exponential\n",
    "\n",
    "The approach here will be to use the diagonalization of A."
   ]
  },
  {
   "cell_type": "code",
   "execution_count": 6,
   "metadata": {},
   "outputs": [
    {
     "data": {
      "text/latex": [
       "$$\\left[\\begin{matrix}0 & 1\\\\-2 & -2\\end{matrix}\\right]$$"
      ],
      "text/plain": [
       "⎡0   1 ⎤\n",
       "⎢      ⎥\n",
       "⎣-2  -2⎦"
      ]
     },
     "execution_count": 6,
     "metadata": {},
     "output_type": "execute_result"
    }
   ],
   "source": [
    "A"
   ]
  },
  {
   "cell_type": "code",
   "execution_count": 7,
   "metadata": {},
   "outputs": [
    {
     "data": {
      "text/latex": [
       "$$\\left [ \\left ( -1 - i, \\quad 1, \\quad \\left [ \\left[\\begin{matrix}- \\frac{1 - i}{2}\\\\1\\end{matrix}\\right]\\right ]\\right ), \\quad \\left ( -1 + i, \\quad 1, \\quad \\left [ \\left[\\begin{matrix}- \\frac{1 + i}{2}\\\\1\\end{matrix}\\right]\\right ]\\right )\\right ]$$"
      ],
      "text/plain": [
       "⎡⎛           ⎡⎡-(1 - ⅈ) ⎤⎤⎞  ⎛           ⎡⎡-(1 + ⅈ) ⎤⎤⎞⎤\n",
       "⎢⎜           ⎢⎢─────────⎥⎥⎟  ⎜           ⎢⎢─────────⎥⎥⎟⎥\n",
       "⎢⎜-1 - ⅈ, 1, ⎢⎢    2    ⎥⎥⎟, ⎜-1 + ⅈ, 1, ⎢⎢    2    ⎥⎥⎟⎥\n",
       "⎢⎜           ⎢⎢         ⎥⎥⎟  ⎜           ⎢⎢         ⎥⎥⎟⎥\n",
       "⎣⎝           ⎣⎣    1    ⎦⎦⎠  ⎝           ⎣⎣    1    ⎦⎦⎠⎦"
      ]
     },
     "execution_count": 7,
     "metadata": {},
     "output_type": "execute_result"
    }
   ],
   "source": [
    "evects = sympy.Matrix.eigenvects(A)\n",
    "evects"
   ]
  },
  {
   "cell_type": "markdown",
   "metadata": {},
   "source": [
    "$T = \\left[ \\xi_1 \\xi_2 \\right]$\n",
    "\n",
    "Diagonolization:\n",
    "\n",
    "$ A = T diag(\\lambda_1, \\lambda_2) T^{-1}$"
   ]
  },
  {
   "cell_type": "code",
   "execution_count": 8,
   "metadata": {},
   "outputs": [
    {
     "data": {
      "text/latex": [
       "$$\\left[\\begin{matrix}- \\frac{1 - i}{2} & - \\frac{1 + i}{2}\\\\1 & 1\\end{matrix}\\right]$$"
      ],
      "text/plain": [
       "⎡-(1 - ⅈ)   -(1 + ⅈ) ⎤\n",
       "⎢─────────  ─────────⎥\n",
       "⎢    2          2    ⎥\n",
       "⎢                    ⎥\n",
       "⎣    1          1    ⎦"
      ]
     },
     "execution_count": 8,
     "metadata": {},
     "output_type": "execute_result"
    }
   ],
   "source": [
    "T = sympy.Matrix.hstack(evects[0][2][0], evects[1][2][0])\n",
    "T"
   ]
  },
  {
   "cell_type": "code",
   "execution_count": 9,
   "metadata": {},
   "outputs": [
    {
     "data": {
      "text/latex": [
       "$$\\left[\\begin{matrix}- i & \\frac{1}{2} - \\frac{i}{2}\\\\i & \\frac{1}{2} + \\frac{i}{2}\\end{matrix}\\right]$$"
      ],
      "text/plain": [
       "⎡    1   ⅈ⎤\n",
       "⎢-ⅈ  ─ - ─⎥\n",
       "⎢    2   2⎥\n",
       "⎢         ⎥\n",
       "⎢    1   ⅈ⎥\n",
       "⎢ⅈ   ─ + ─⎥\n",
       "⎣    2   2⎦"
      ]
     },
     "execution_count": 9,
     "metadata": {},
     "output_type": "execute_result"
    }
   ],
   "source": [
    "T_inv = T.inv()\n",
    "T_inv.simplify()\n",
    "T_inv"
   ]
  },
  {
   "cell_type": "code",
   "execution_count": 10,
   "metadata": {},
   "outputs": [
    {
     "data": {
      "text/latex": [
       "$$\\left[\\begin{matrix}-1 - i & 0\\\\0 & -1 + i\\end{matrix}\\right]$$"
      ],
      "text/plain": [
       "⎡-1 - ⅈ    0   ⎤\n",
       "⎢              ⎥\n",
       "⎣  0     -1 + ⅈ⎦"
      ]
     },
     "execution_count": 10,
     "metadata": {},
     "output_type": "execute_result"
    }
   ],
   "source": [
    "Lambda = sympy.diag(evects[0][0], evects[1][0])\n",
    "Lambda"
   ]
  },
  {
   "cell_type": "markdown",
   "metadata": {},
   "source": [
    "Let's check that are diagonalization of A worked as expected."
   ]
  },
  {
   "cell_type": "code",
   "execution_count": 11,
   "metadata": {},
   "outputs": [
    {
     "data": {
      "text/latex": [
       "$$\\left ( \\left[\\begin{matrix}0 & 1\\\\-2 & -2\\end{matrix}\\right], \\quad \\left[\\begin{matrix}0 & 1\\\\-2 & -2\\end{matrix}\\right]\\right )$$"
      ],
      "text/plain": [
       "⎛⎡0   1 ⎤  ⎡0   1 ⎤⎞\n",
       "⎜⎢      ⎥, ⎢      ⎥⎟\n",
       "⎝⎣-2  -2⎦  ⎣-2  -2⎦⎠"
      ]
     },
     "execution_count": 11,
     "metadata": {},
     "output_type": "execute_result"
    }
   ],
   "source": [
    "A_check = (T*Lambda*T.inv())\n",
    "sympy.expand(A_check, complex=True), A"
   ]
  },
  {
   "cell_type": "markdown",
   "metadata": {},
   "source": [
    "We can calculate the exponential of the diagonal matrix containing the eigen values, it is just the exponential of each element of the diagonal."
   ]
  },
  {
   "cell_type": "code",
   "execution_count": 12,
   "metadata": {},
   "outputs": [
    {
     "data": {
      "text/latex": [
       "$$\\left[\\begin{matrix}e^{t \\left(-1 - i\\right)} & 0\\\\0 & e^{t \\left(-1 + i\\right)}\\end{matrix}\\right]$$"
      ],
      "text/plain": [
       "⎡ t⋅(-1 - ⅈ)             ⎤\n",
       "⎢ℯ                 0     ⎥\n",
       "⎢                        ⎥\n",
       "⎢              t⋅(-1 + ⅈ)⎥\n",
       "⎣     0       ℯ          ⎦"
      ]
     },
     "execution_count": 12,
     "metadata": {},
     "output_type": "execute_result"
    }
   ],
   "source": [
    "LambdaExp = sympy.diag(sympy.exp(evects[0][0]*t), sympy.exp(evects[1][0]*t))\n",
    "LambdaExp"
   ]
  },
  {
   "cell_type": "code",
   "execution_count": 13,
   "metadata": {},
   "outputs": [
    {
     "data": {
      "text/latex": [
       "$$\\left[\\begin{matrix}\\left(e^{- t} \\sin{\\left (t \\right )} + e^{- t} \\cos{\\left (t \\right )}\\right) \\theta\\left(t\\right) & e^{- t} \\sin{\\left (t \\right )} \\theta\\left(t\\right)\\\\- 2 e^{- t} \\sin{\\left (t \\right )} \\theta\\left(t\\right) & \\left(- e^{- t} \\sin{\\left (t \\right )} + e^{- t} \\cos{\\left (t \\right )}\\right) \\theta\\left(t\\right)\\end{matrix}\\right]$$"
      ],
      "text/plain": [
       "⎡⎛ -t           -t       ⎞                        -t                          \n",
       "⎢⎝ℯ  ⋅sin(t) + ℯ  ⋅cos(t)⎠⋅Heaviside(t)          ℯ  ⋅sin(t)⋅Heaviside(t)      \n",
       "⎢                                                                             \n",
       "⎢          -t                            ⎛   -t           -t       ⎞          \n",
       "⎣      -2⋅ℯ  ⋅sin(t)⋅Heaviside(t)        ⎝- ℯ  ⋅sin(t) + ℯ  ⋅cos(t)⎠⋅Heaviside\n",
       "\n",
       "   ⎤\n",
       "   ⎥\n",
       "   ⎥\n",
       "   ⎥\n",
       "(t)⎦"
      ]
     },
     "execution_count": 13,
     "metadata": {},
     "output_type": "execute_result"
    }
   ],
   "source": [
    "eAt_spec = (T*LambdaExp*T_inv).expand(complex=True)*sympy.Heaviside(t)\n",
    "eAt_spec"
   ]
  },
  {
   "cell_type": "code",
   "execution_count": 14,
   "metadata": {},
   "outputs": [
    {
     "data": {
      "text/latex": [
       "$$\\left[\\begin{matrix}\\left(\\sin{\\left (t \\right )} + \\cos{\\left (t \\right )}\\right) e^{- t} \\theta\\left(t\\right) & e^{- t} \\sin{\\left (t \\right )} \\theta\\left(t\\right)\\\\- 2 e^{- t} \\sin{\\left (t \\right )} \\theta\\left(t\\right) & \\left(- \\sin{\\left (t \\right )} + \\cos{\\left (t \\right )}\\right) e^{- t} \\theta\\left(t\\right)\\end{matrix}\\right]$$"
      ],
      "text/plain": [
       "⎡                   -t                      -t                          ⎤\n",
       "⎢(sin(t) + cos(t))⋅ℯ  ⋅Heaviside(t)        ℯ  ⋅sin(t)⋅Heaviside(t)      ⎥\n",
       "⎢                                                                       ⎥\n",
       "⎢        -t                                              -t             ⎥\n",
       "⎣    -2⋅ℯ  ⋅sin(t)⋅Heaviside(t)      (-sin(t) + cos(t))⋅ℯ  ⋅Heaviside(t)⎦"
      ]
     },
     "execution_count": 14,
     "metadata": {},
     "output_type": "execute_result"
    }
   ],
   "source": [
    "eAt"
   ]
  },
  {
   "cell_type": "markdown",
   "metadata": {},
   "source": [
    "## Response given initial conditions\n",
    "\n",
    "$\\vec{x} = \\begin{bmatrix}x  \\\\ \\dot{x} \\end{bmatrix}$\n",
    "\n",
    "$\\vec{x}(t) = e^{At}\\vec{x}(0) + \\int_0^t e^{A(t - \\tau)}  B u(\\tau) d\\tau$\n",
    "\n",
    "$\\vec{y}(t) = C \\vec{x}(t) + D\\vec{u}(t)$"
   ]
  },
  {
   "cell_type": "code",
   "execution_count": 15,
   "metadata": {},
   "outputs": [
    {
     "data": {
      "text/latex": [
       "$$\\left[\\begin{matrix}1\\\\0\\end{matrix}\\right]$$"
      ],
      "text/plain": [
       "⎡1⎤\n",
       "⎢ ⎥\n",
       "⎣0⎦"
      ]
     },
     "execution_count": 15,
     "metadata": {},
     "output_type": "execute_result"
    }
   ],
   "source": [
    "x0 = sympy.Matrix([1, 0])\n",
    "x0"
   ]
  },
  {
   "cell_type": "code",
   "execution_count": 16,
   "metadata": {},
   "outputs": [
    {
     "data": {
      "text/latex": [
       "$$\\left[\\begin{matrix}\\left(\\sin{\\left (t \\right )} + \\cos{\\left (t \\right )}\\right) e^{- t} \\theta\\left(t\\right)\\\\- 2 e^{- t} \\sin{\\left (t \\right )} \\theta\\left(t\\right)\\end{matrix}\\right]$$"
      ],
      "text/plain": [
       "⎡                   -t             ⎤\n",
       "⎢(sin(t) + cos(t))⋅ℯ  ⋅Heaviside(t)⎥\n",
       "⎢                                  ⎥\n",
       "⎢        -t                        ⎥\n",
       "⎣    -2⋅ℯ  ⋅sin(t)⋅Heaviside(t)    ⎦"
      ]
     },
     "execution_count": 16,
     "metadata": {},
     "output_type": "execute_result"
    }
   ],
   "source": [
    "x = eAt*x0\n",
    "x"
   ]
  },
  {
   "cell_type": "code",
   "execution_count": 17,
   "metadata": {},
   "outputs": [
    {
     "data": {
      "image/png": "[encoded data removed]",
      "text/plain": [
       "<Figure size 432x288 with 1 Axes>"
      ]
     },
     "metadata": {
      "needs_background": "light"
     },
     "output_type": "display_data"
    },
    {
     "data": {
      "text/plain": [
       "<sympy.plotting.plot.Plot at 0x7fc7ee074c50>"
      ]
     },
     "execution_count": 17,
     "metadata": {},
     "output_type": "execute_result"
    }
   ],
   "source": [
    "sympy.plot(x[0])"
   ]
  },
  {
   "cell_type": "code",
   "execution_count": 18,
   "metadata": {},
   "outputs": [
    {
     "data": {
      "image/png": "[encoded data removed]",
      "text/plain": [
       "<Figure size 432x288 with 1 Axes>"
      ]
     },
     "metadata": {
      "needs_background": "light"
     },
     "output_type": "display_data"
    },
    {
     "data": {
      "text/plain": [
       "<sympy.plotting.plot.Plot at 0x7fc7ec7ebe10>"
      ]
     },
     "execution_count": 18,
     "metadata": {},
     "output_type": "execute_result"
    }
   ],
   "source": [
    "sympy.plot(x[1])"
   ]
  },
  {
   "cell_type": "markdown",
   "metadata": {},
   "source": [
    "# Final Value Theorem\n",
    "\n",
    "$G(s) = Y(s)/U(s)$\n",
    "\n",
    "$\\lim\\limits_{t \\rightarrow \\infty} x(t) = \\lim\\limits_{s \\rightarrow 0} s X(s)$"
   ]
  },
  {
   "cell_type": "code",
   "execution_count": 19,
   "metadata": {},
   "outputs": [
    {
     "data": {
      "image/png": "[encoded data removed]",
      "text/latex": [
       "$$\\frac{1}{s \\left(s + 2\\right) + 2}$$"
      ],
      "text/plain": [
       "      1      \n",
       "─────────────\n",
       "s⋅(s + 2) + 2"
      ]
     },
     "execution_count": 19,
     "metadata": {},
     "output_type": "execute_result"
    }
   ],
   "source": [
    "G"
   ]
  },
  {
   "cell_type": "markdown",
   "metadata": {},
   "source": [
    "## Unit step of magnitude \n",
    "\n",
    "$ X = G\\cdot U$\n",
    "\n",
    "$ X = (X/U)\\cdot U$"
   ]
  },
  {
   "cell_type": "code",
   "execution_count": 20,
   "metadata": {},
   "outputs": [
    {
     "data": {
      "image/png": "[encoded data removed]",
      "text/latex": [
       "$$\\frac{3}{s \\left(s \\left(s + 2\\right) + 2\\right)}$$"
      ],
      "text/plain": [
       "        3        \n",
       "─────────────────\n",
       "s⋅(s⋅(s + 2) + 2)"
      ]
     },
     "execution_count": 20,
     "metadata": {},
     "output_type": "execute_result"
    }
   ],
   "source": [
    "U1 = 3/s\n",
    "X1 = G*U1\n",
    "X1"
   ]
  },
  {
   "cell_type": "code",
   "execution_count": 21,
   "metadata": {},
   "outputs": [
    {
     "data": {
      "image/png": "[encoded data removed]",
      "text/latex": [
       "$$3 \\theta\\left(t\\right)$$"
      ],
      "text/plain": [
       "3⋅Heaviside(t)"
      ]
     },
     "execution_count": 21,
     "metadata": {},
     "output_type": "execute_result"
    }
   ],
   "source": [
    "u1 = sympy.inverse_laplace_transform(U1, s, t)\n",
    "u1"
   ]
  },
  {
   "cell_type": "code",
   "execution_count": 22,
   "metadata": {},
   "outputs": [
    {
     "data": {
      "image/png": "[encoded data removed]",
      "text/latex": [
       "$$\\frac{3}{2}$$"
      ],
      "text/plain": [
       "3/2"
      ]
     },
     "execution_count": 22,
     "metadata": {},
     "output_type": "execute_result"
    }
   ],
   "source": [
    "x1_final = (s*X1).subs(s, 0)\n",
    "x1_final"
   ]
  },
  {
   "cell_type": "code",
   "execution_count": 23,
   "metadata": {},
   "outputs": [
    {
     "data": {
      "image/png": "[encoded data removed]",
      "text/latex": [
       "$$\\frac{3 \\theta\\left(t\\right)}{2} - \\frac{3 e^{- t} \\sin{\\left (t \\right )} \\theta\\left(t\\right)}{2} - \\frac{3 e^{- t} \\cos{\\left (t \\right )} \\theta\\left(t\\right)}{2}$$"
      ],
      "text/plain": [
       "                    -t                          -t                    \n",
       "3⋅Heaviside(t)   3⋅ℯ  ⋅sin(t)⋅Heaviside(t)   3⋅ℯ  ⋅cos(t)⋅Heaviside(t)\n",
       "────────────── - ───────────────────────── - ─────────────────────────\n",
       "      2                      2                           2            "
      ]
     },
     "execution_count": 23,
     "metadata": {},
     "output_type": "execute_result"
    }
   ],
   "source": [
    "x1 = sympy.inverse_laplace_transform(X1, s, t).expand(complex=True)\n",
    "x1"
   ]
  },
  {
   "cell_type": "code",
   "execution_count": 24,
   "metadata": {},
   "outputs": [
    {
     "data": {
      "image/png": "[encoded data removed]",
      "text/plain": [
       "<Figure size 432x288 with 1 Axes>"
      ]
     },
     "metadata": {
      "needs_background": "light"
     },
     "output_type": "display_data"
    },
    {
     "data": {
      "text/plain": [
       "<sympy.plotting.plot.Plot at 0x7fc7edfad6d8>"
      ]
     },
     "execution_count": 24,
     "metadata": {},
     "output_type": "execute_result"
    }
   ],
   "source": [
    "sympy.plot(x1, x1_final, (t, 0, 10))"
   ]
  },
  {
   "cell_type": "markdown",
   "metadata": {},
   "source": [
    "## Impulse of magnitude 2"
   ]
  },
  {
   "cell_type": "code",
   "execution_count": 25,
   "metadata": {},
   "outputs": [
    {
     "data": {
      "image/png": "[encoded data removed]",
      "text/latex": [
       "$$\\frac{2}{s \\left(s + 2\\right) + 2}$$"
      ],
      "text/plain": [
       "      2      \n",
       "─────────────\n",
       "s⋅(s + 2) + 2"
      ]
     },
     "execution_count": 25,
     "metadata": {},
     "output_type": "execute_result"
    }
   ],
   "source": [
    "U2 = 2\n",
    "X2 = G*U2\n",
    "X2"
   ]
  },
  {
   "cell_type": "code",
   "execution_count": 26,
   "metadata": {},
   "outputs": [
    {
     "data": {
      "image/png": "[encoded data removed]",
      "text/latex": [
       "$$2 \\delta\\left(t\\right)$$"
      ],
      "text/plain": [
       "2⋅δ(t)"
      ]
     },
     "execution_count": 26,
     "metadata": {},
     "output_type": "execute_result"
    }
   ],
   "source": [
    "u2 = sympy.inverse_laplace_transform(U2, s, t)\n",
    "u2"
   ]
  },
  {
   "cell_type": "code",
   "execution_count": 27,
   "metadata": {},
   "outputs": [
    {
     "data": {
      "image/png": "[encoded data removed]",
      "text/latex": [
       "$$0$$"
      ],
      "text/plain": [
       "0"
      ]
     },
     "execution_count": 27,
     "metadata": {},
     "output_type": "execute_result"
    }
   ],
   "source": [
    "x2_final = (s*X2).subs(s, 0)\n",
    "x2_final"
   ]
  },
  {
   "cell_type": "code",
   "execution_count": 28,
   "metadata": {},
   "outputs": [
    {
     "data": {
      "image/png": "[encoded data removed]",
      "text/latex": [
       "$$\\frac{2 s}{s \\left(s + 2\\right) + 2}$$"
      ],
      "text/plain": [
       "     2⋅s     \n",
       "─────────────\n",
       "s⋅(s + 2) + 2"
      ]
     },
     "execution_count": 28,
     "metadata": {},
     "output_type": "execute_result"
    }
   ],
   "source": [
    "s*X2"
   ]
  },
  {
   "cell_type": "code",
   "execution_count": 29,
   "metadata": {},
   "outputs": [
    {
     "data": {
      "image/png": "[encoded data removed]",
      "text/latex": [
       "$$2 e^{- t} \\sin{\\left (t \\right )} \\theta\\left(t\\right)$$"
      ],
      "text/plain": [
       "   -t                    \n",
       "2⋅ℯ  ⋅sin(t)⋅Heaviside(t)"
      ]
     },
     "execution_count": 29,
     "metadata": {},
     "output_type": "execute_result"
    }
   ],
   "source": [
    "x2 = sympy.inverse_laplace_transform(X2, s, t).expand(complex=True)\n",
    "x2"
   ]
  },
  {
   "cell_type": "code",
   "execution_count": 30,
   "metadata": {},
   "outputs": [
    {
     "data": {
      "image/png": "[encoded data removed]",
      "text/plain": [
       "<Figure size 432x288 with 1 Axes>"
      ]
     },
     "metadata": {
      "needs_background": "light"
     },
     "output_type": "display_data"
    },
    {
     "data": {
      "text/plain": [
       "<sympy.plotting.plot.Plot at 0x7fc7ed703f98>"
      ]
     },
     "execution_count": 30,
     "metadata": {},
     "output_type": "execute_result"
    }
   ],
   "source": [
    "sympy.plot(x2, x2_final, (t, 0, 10))"
   ]
  }
 ],
 "metadata": {
  "kernelspec": {
   "display_name": "Python 3",
   "language": "python",
   "name": "python3"
  },
  "language_info": {
   "codemirror_mode": {
    "name": "ipython",
    "version": 3
   },
   "file_extension": ".py",
   "mimetype": "text/x-python",
   "name": "python",
   "nbconvert_exporter": "python",
   "pygments_lexer": "ipython3",
   "version": "3.7.1"
  }
 },
 "nbformat": 4,
 "nbformat_minor": 2
}
