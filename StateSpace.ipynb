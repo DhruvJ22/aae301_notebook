{
 "cells": [
  {
   "cell_type": "markdown",
   "metadata": {},
   "source": [
    "# The Matrix Exponential\n",
    "\n",
    "* Reference Notes (5.1 and 5.3)"
   ]
  },
  {
   "cell_type": "markdown",
   "metadata": {},
   "source": [
    "Solve the system of linear differential equations:\n",
    "\n",
    "$\\dot{x_1} = x_1 + 2 x_2$\n",
    "\n",
    "$\\dot{x_2} = -x_2$\n",
    "\n",
    "$\\dot{\\vec{x}} = A\\vec{x}$\n",
    "\n",
    "where: $A = \\begin{bmatrix}\n",
    "0 & -1 \\\\\n",
    "1 & 0\n",
    "\\end{bmatrix}, \\vec{x} = \\begin{bmatrix}x_1\\\\ x_2 \\end{bmatrix}$"
   ]
  },
  {
   "cell_type": "markdown",
   "metadata": {},
   "source": [
    "We can solve this differential equation using the matrix exponential.\n",
    "\n",
    "Notice that:\n",
    "\n",
    "$\\vec{x}(t) = e^{At} \\vec{x_0}$\n",
    "\n",
    "is a solution to the differential equation.\n",
    "\n",
    "$\\dot{\\vec{x}}(t) = A e^{At} \\vec{x_0} = A \\vec{x}(t)$\n",
    "\n"
   ]
  },
  {
   "cell_type": "code",
   "execution_count": 1,
   "metadata": {},
   "outputs": [
    {
     "data": {
      "text/latex": [
       "$$\\left[\\begin{matrix}\\frac{2 e^{t}}{3} + \\frac{e^{- 2 t}}{3} & \\frac{e^{t}}{3} - \\frac{e^{- 2 t}}{3}\\\\\\frac{2 e^{t}}{3} - \\frac{2 e^{- 2 t}}{3} & \\frac{e^{t}}{3} + \\frac{2 e^{- 2 t}}{3}\\end{matrix}\\right]$$"
      ],
      "text/plain": [
       "⎡    t    -2⋅t     t    -2⋅t ⎤\n",
       "⎢ 2⋅ℯ    ℯ        ℯ    ℯ     ⎥\n",
       "⎢ ──── + ─────    ── - ───── ⎥\n",
       "⎢  3       3      3      3   ⎥\n",
       "⎢                            ⎥\n",
       "⎢   t      -2⋅t   t      -2⋅t⎥\n",
       "⎢2⋅ℯ    2⋅ℯ      ℯ    2⋅ℯ    ⎥\n",
       "⎢──── - ───────  ── + ───────⎥\n",
       "⎣ 3        3     3       3   ⎦"
      ]
     },
     "execution_count": 1,
     "metadata": {},
     "output_type": "execute_result"
    }
   ],
   "source": [
    "import sympy\n",
    "sympy.init_printing()\n",
    "t = sympy.symbols('t', real=True)\n",
    "A = sympy.Matrix([\n",
    "    [0, -1],\n",
    "    [1, 0]\n",
    "])\n",
    "A = sympy.Matrix([\n",
    "    [0, 1],\n",
    "    [2, -1]\n",
    "])\n",
    "sympy.exp(A*t)"
   ]
  },
  {
   "cell_type": "code",
   "execution_count": 2,
   "metadata": {},
   "outputs": [
    {
     "data": {
      "text/latex": [
       "$$\\left [ \\left ( -2, \\quad 1, \\quad \\left [ \\left[\\begin{matrix}- \\frac{1}{2}\\\\1\\end{matrix}\\right]\\right ]\\right ), \\quad \\left ( 1, \\quad 1, \\quad \\left [ \\left[\\begin{matrix}1\\\\1\\end{matrix}\\right]\\right ]\\right )\\right ]$$"
      ],
      "text/plain": [
       "⎡⎛       ⎡⎡-1/2⎤⎤⎞  ⎛      ⎡⎡1⎤⎤⎞⎤\n",
       "⎢⎜-2, 1, ⎢⎢    ⎥⎥⎟, ⎜1, 1, ⎢⎢ ⎥⎥⎟⎥\n",
       "⎣⎝       ⎣⎣ 1  ⎦⎦⎠  ⎝      ⎣⎣1⎦⎦⎠⎦"
      ]
     },
     "execution_count": 2,
     "metadata": {},
     "output_type": "execute_result"
    }
   ],
   "source": [
    "evects = sympy.Matrix.eigenvects(A)\n",
    "evects"
   ]
  },
  {
   "cell_type": "markdown",
   "metadata": {},
   "source": [
    "We can compute the matrix exponential symbolically: $e^{At}$"
   ]
  },
  {
   "cell_type": "code",
   "execution_count": 3,
   "metadata": {},
   "outputs": [
    {
     "data": {
      "text/latex": [
       "$$\\left[\\begin{matrix}\\frac{\\left(2 e^{3 t} + 1\\right) e^{- 2 t}}{3} & \\frac{\\left(e^{3 t} - 1\\right) e^{- 2 t}}{3}\\\\\\frac{\\left(2 e^{3 t} - 2\\right) e^{- 2 t}}{3} & \\frac{\\left(e^{3 t} + 2\\right) e^{- 2 t}}{3}\\end{matrix}\\right]$$"
      ],
      "text/plain": [
       "⎡⎛   3⋅t    ⎞  -2⋅t  ⎛ 3⋅t    ⎞  -2⋅t⎤\n",
       "⎢⎝2⋅ℯ    + 1⎠⋅ℯ      ⎝ℯ    - 1⎠⋅ℯ    ⎥\n",
       "⎢──────────────────  ────────────────⎥\n",
       "⎢        3                  3        ⎥\n",
       "⎢                                    ⎥\n",
       "⎢⎛   3⋅t    ⎞  -2⋅t  ⎛ 3⋅t    ⎞  -2⋅t⎥\n",
       "⎢⎝2⋅ℯ    - 2⎠⋅ℯ      ⎝ℯ    + 2⎠⋅ℯ    ⎥\n",
       "⎢──────────────────  ────────────────⎥\n",
       "⎣        3                  3        ⎦"
      ]
     },
     "execution_count": 3,
     "metadata": {},
     "output_type": "execute_result"
    }
   ],
   "source": [
    "expA = sympy.simplify(sympy.exp(A*t))\n",
    "expA"
   ]
  },
  {
   "cell_type": "markdown",
   "metadata": {},
   "source": [
    "With this, we can solve the differential equation for arbitary initial conditons $x_0$."
   ]
  },
  {
   "cell_type": "code",
   "execution_count": 4,
   "metadata": {},
   "outputs": [
    {
     "data": {
      "text/latex": [
       "$$\\left[\\begin{matrix}\\frac{2 \\left(e^{3 t} - 1\\right) e^{- 2 t}}{3} + \\frac{\\left(2 e^{3 t} + 1\\right) e^{- 2 t}}{3}\\\\\\frac{2 \\left(e^{3 t} + 2\\right) e^{- 2 t}}{3} + \\frac{\\left(2 e^{3 t} - 2\\right) e^{- 2 t}}{3}\\end{matrix}\\right]$$"
      ],
      "text/plain": [
       "⎡  ⎛ 3⋅t    ⎞  -2⋅t   ⎛   3⋅t    ⎞  -2⋅t⎤\n",
       "⎢2⋅⎝ℯ    - 1⎠⋅ℯ       ⎝2⋅ℯ    + 1⎠⋅ℯ    ⎥\n",
       "⎢────────────────── + ──────────────────⎥\n",
       "⎢        3                    3         ⎥\n",
       "⎢                                       ⎥\n",
       "⎢  ⎛ 3⋅t    ⎞  -2⋅t   ⎛   3⋅t    ⎞  -2⋅t⎥\n",
       "⎢2⋅⎝ℯ    + 2⎠⋅ℯ       ⎝2⋅ℯ    - 2⎠⋅ℯ    ⎥\n",
       "⎢────────────────── + ──────────────────⎥\n",
       "⎣        3                    3         ⎦"
      ]
     },
     "execution_count": 4,
     "metadata": {},
     "output_type": "execute_result"
    }
   ],
   "source": [
    "x0_0, x0_1 = sympy.symbols('x^0_0, x^0_1')\n",
    "x0 = sympy.Matrix([x0_0, x0_1])\n",
    "expA = sympy.simplify(sympy.exp(A*t))\n",
    "x_sol = expA*sympy.Matrix([1, 2])\n",
    "x_sol"
   ]
  },
  {
   "cell_type": "code",
   "execution_count": 5,
   "metadata": {},
   "outputs": [
    {
     "data": {
      "text/plain": [
       "<Figure size 640x480 with 1 Axes>"
      ]
     },
     "metadata": {},
     "output_type": "display_data"
    },
    {
     "data": {
      "text/plain": [
       "<Figure size 640x480 with 1 Axes>"
      ]
     },
     "metadata": {},
     "output_type": "display_data"
    },
    {
     "data": {
      "text/plain": [
       "<sympy.plotting.plot.Plot at 0x7f25b6245dd8>"
      ]
     },
     "execution_count": 5,
     "metadata": {},
     "output_type": "execute_result"
    }
   ],
   "source": [
    "sympy.plot(x_sol[0], (t, 0, 10))\n",
    "sympy.plot(x_sol[1], (t, 0, 10))"
   ]
  },
  {
   "cell_type": "markdown",
   "metadata": {},
   "source": [
    "## Laplace Transform Method\n",
    "\n",
    "\n",
    "Recall that:\n",
    "\n",
    "$\\mathcal{L}[e^{at}] = \\dfrac{1}{s - a}$\n",
    "\n",
    "We can also use the Laplace transform to compute the matrix exponential. Notice that:\n",
    "\n",
    "$\\mathcal{L}[e^{At}] = \\dfrac{1}{sI - A} = (sI - A)^{-1}$\n",
    "\n",
    "where $I$ is an identity matrix the same size of $A$, and $A$ is a square matrix.\n",
    "\n"
   ]
  },
  {
   "cell_type": "markdown",
   "metadata": {},
   "source": [
    "We can use sympy compute the matrix exponential using this approach.\n",
    "\n",
    "First compute $(sI - A)$."
   ]
  },
  {
   "cell_type": "code",
   "execution_count": 6,
   "metadata": {},
   "outputs": [
    {
     "data": {
      "text/latex": [
       "$$\\left[\\begin{matrix}s & -1\\\\-2 & s + 1\\end{matrix}\\right]$$"
      ],
      "text/plain": [
       "⎡s    -1  ⎤\n",
       "⎢         ⎥\n",
       "⎣-2  s + 1⎦"
      ]
     },
     "execution_count": 6,
     "metadata": {},
     "output_type": "execute_result"
    }
   ],
   "source": [
    "s = sympy.symbols('s', complex=True)\n",
    "s*sympy.eye(2) - A"
   ]
  },
  {
   "cell_type": "markdown",
   "metadata": {},
   "source": [
    "Now compute the inverse of that expression: $(sI - A)^{-1}$"
   ]
  },
  {
   "cell_type": "code",
   "execution_count": 7,
   "metadata": {},
   "outputs": [
    {
     "data": {
      "text/latex": [
       "$$\\left[\\begin{matrix}\\frac{2 s + 2}{2 s \\left(s + 1\\right) - 4} & \\frac{2}{2 s \\left(s + 1\\right) - 4}\\\\- \\frac{2}{- s \\left(s + 1\\right) + 2} & - \\frac{s}{- s \\left(s + 1\\right) + 2}\\end{matrix}\\right]$$"
      ],
      "text/plain": [
       "⎡    2⋅s + 2             2       ⎤\n",
       "⎢───────────────  ───────────────⎥\n",
       "⎢2⋅s⋅(s + 1) - 4  2⋅s⋅(s + 1) - 4⎥\n",
       "⎢                                ⎥\n",
       "⎢     -2               -s        ⎥\n",
       "⎢──────────────   ────────────── ⎥\n",
       "⎣-s⋅(s + 1) + 2   -s⋅(s + 1) + 2 ⎦"
      ]
     },
     "execution_count": 7,
     "metadata": {},
     "output_type": "execute_result"
    }
   ],
   "source": [
    "sympy.Matrix.inv(s*sympy.eye(2) - A)"
   ]
  },
  {
   "cell_type": "markdown",
   "metadata": {},
   "source": [
    "Now use the inverse Laplace transform to compute the matrix exponential:"
   ]
  },
  {
   "cell_type": "code",
   "execution_count": 8,
   "metadata": {},
   "outputs": [
    {
     "data": {
      "text/latex": [
       "$$\\left[\\begin{matrix}\\frac{\\left(2 e^{3 t} + 1\\right) e^{- 2 t} \\theta\\left(t\\right)}{3} & \\frac{\\left(e^{3 t} - 1\\right) e^{- 2 t} \\theta\\left(t\\right)}{3}\\\\\\frac{2 \\left(e^{3 t} - 1\\right) e^{- 2 t} \\theta\\left(t\\right)}{3} & \\frac{\\left(e^{3 t} + 2\\right) e^{- 2 t} \\theta\\left(t\\right)}{3}\\end{matrix}\\right]$$"
      ],
      "text/plain": [
       "⎡⎛   3⋅t    ⎞  -2⋅t               ⎛ 3⋅t    ⎞  -2⋅t             ⎤\n",
       "⎢⎝2⋅ℯ    + 1⎠⋅ℯ    ⋅Heaviside(t)  ⎝ℯ    - 1⎠⋅ℯ    ⋅Heaviside(t)⎥\n",
       "⎢───────────────────────────────  ─────────────────────────────⎥\n",
       "⎢               3                               3              ⎥\n",
       "⎢                                                              ⎥\n",
       "⎢  ⎛ 3⋅t    ⎞  -2⋅t               ⎛ 3⋅t    ⎞  -2⋅t             ⎥\n",
       "⎢2⋅⎝ℯ    - 1⎠⋅ℯ    ⋅Heaviside(t)  ⎝ℯ    + 2⎠⋅ℯ    ⋅Heaviside(t)⎥\n",
       "⎢───────────────────────────────  ─────────────────────────────⎥\n",
       "⎣               3                               3              ⎦"
      ]
     },
     "execution_count": 8,
     "metadata": {},
     "output_type": "execute_result"
    }
   ],
   "source": [
    "sympy.inverse_laplace_transform(sympy.Matrix.inv(s*sympy.eye(2) - A), s, t)"
   ]
  },
  {
   "cell_type": "markdown",
   "metadata": {},
   "source": [
    "## Spectral Method "
   ]
  },
  {
   "cell_type": "code",
   "execution_count": 9,
   "metadata": {},
   "outputs": [
    {
     "data": {
      "text/latex": [
       "$$\\left [ \\left ( -2, \\quad 1, \\quad \\left [ \\left[\\begin{matrix}- \\frac{1}{2}\\\\1\\end{matrix}\\right]\\right ]\\right ), \\quad \\left ( 1, \\quad 1, \\quad \\left [ \\left[\\begin{matrix}1\\\\1\\end{matrix}\\right]\\right ]\\right )\\right ]$$"
      ],
      "text/plain": [
       "⎡⎛       ⎡⎡-1/2⎤⎤⎞  ⎛      ⎡⎡1⎤⎤⎞⎤\n",
       "⎢⎜-2, 1, ⎢⎢    ⎥⎥⎟, ⎜1, 1, ⎢⎢ ⎥⎥⎟⎥\n",
       "⎣⎝       ⎣⎣ 1  ⎦⎦⎠  ⎝      ⎣⎣1⎦⎦⎠⎦"
      ]
     },
     "execution_count": 9,
     "metadata": {},
     "output_type": "execute_result"
    }
   ],
   "source": [
    "evects = sympy.Matrix.eigenvects(A)\n",
    "evects"
   ]
  },
  {
   "cell_type": "code",
   "execution_count": 10,
   "metadata": {},
   "outputs": [
    {
     "data": {
      "text/latex": [
       "$$\\left[\\begin{matrix}- \\frac{1}{2} & 1\\\\1 & 1\\end{matrix}\\right]$$"
      ],
      "text/plain": [
       "⎡-1/2  1⎤\n",
       "⎢       ⎥\n",
       "⎣ 1    1⎦"
      ]
     },
     "execution_count": 10,
     "metadata": {},
     "output_type": "execute_result"
    }
   ],
   "source": [
    "T = sympy.Matrix.hstack(evects[0][2][0], evects[1][2][0])\n",
    "T"
   ]
  },
  {
   "cell_type": "code",
   "execution_count": 11,
   "metadata": {},
   "outputs": [
    {
     "data": {
      "text/latex": [
       "$$\\left[\\begin{matrix}- \\frac{2}{3} & \\frac{2}{3}\\\\\\frac{2}{3} & \\frac{1}{3}\\end{matrix}\\right]$$"
      ],
      "text/plain": [
       "⎡-2/3  2/3⎤\n",
       "⎢         ⎥\n",
       "⎣2/3   1/3⎦"
      ]
     },
     "execution_count": 11,
     "metadata": {},
     "output_type": "execute_result"
    }
   ],
   "source": [
    "T_inv = sympy.simplify(T.inv())\n",
    "T_inv"
   ]
  },
  {
   "cell_type": "code",
   "execution_count": 12,
   "metadata": {},
   "outputs": [
    {
     "data": {
      "text/latex": [
       "$$\\left[\\begin{matrix}-2 & 0\\\\0 & 1\\end{matrix}\\right]$$"
      ],
      "text/plain": [
       "⎡-2  0⎤\n",
       "⎢     ⎥\n",
       "⎣0   1⎦"
      ]
     },
     "execution_count": 12,
     "metadata": {},
     "output_type": "execute_result"
    }
   ],
   "source": [
    "Lam = sympy.diag(evects[0][0], evects[1][0])\n",
    "Lam"
   ]
  },
  {
   "cell_type": "markdown",
   "metadata": {},
   "source": [
    "This process is known as diagonalization, and we can check the decomposition works as expected and we get back A."
   ]
  },
  {
   "cell_type": "code",
   "execution_count": 13,
   "metadata": {},
   "outputs": [
    {
     "data": {
      "text/latex": [
       "$$\\left[\\begin{matrix}0 & 1\\\\2 & -1\\end{matrix}\\right]$$"
      ],
      "text/plain": [
       "⎡0  1 ⎤\n",
       "⎢     ⎥\n",
       "⎣2  -1⎦"
      ]
     },
     "execution_count": 13,
     "metadata": {},
     "output_type": "execute_result"
    }
   ],
   "source": [
    "sympy.simplify(T*Lam*T_inv)"
   ]
  },
  {
   "cell_type": "code",
   "execution_count": 14,
   "metadata": {},
   "outputs": [
    {
     "data": {
      "text/latex": [
       "$$\\left[\\begin{matrix}\\frac{\\left(2 e^{3 t} + 1\\right) e^{- 2 t}}{3} & \\frac{\\left(e^{3 t} - 1\\right) e^{- 2 t}}{3}\\\\\\frac{\\left(2 e^{3 t} - 2\\right) e^{- 2 t}}{3} & \\frac{\\left(e^{3 t} + 2\\right) e^{- 2 t}}{3}\\end{matrix}\\right]$$"
      ],
      "text/plain": [
       "⎡⎛   3⋅t    ⎞  -2⋅t  ⎛ 3⋅t    ⎞  -2⋅t⎤\n",
       "⎢⎝2⋅ℯ    + 1⎠⋅ℯ      ⎝ℯ    - 1⎠⋅ℯ    ⎥\n",
       "⎢──────────────────  ────────────────⎥\n",
       "⎢        3                  3        ⎥\n",
       "⎢                                    ⎥\n",
       "⎢⎛   3⋅t    ⎞  -2⋅t  ⎛ 3⋅t    ⎞  -2⋅t⎥\n",
       "⎢⎝2⋅ℯ    - 2⎠⋅ℯ      ⎝ℯ    + 2⎠⋅ℯ    ⎥\n",
       "⎢──────────────────  ────────────────⎥\n",
       "⎣        3                  3        ⎦"
      ]
     },
     "execution_count": 14,
     "metadata": {},
     "output_type": "execute_result"
    }
   ],
   "source": [
    "sympy.expand(T*sympy.exp(Lam*t)*T_inv, complex=True).simplify()"
   ]
  },
  {
   "cell_type": "code",
   "execution_count": 15,
   "metadata": {},
   "outputs": [
    {
     "data": {
      "text/latex": [
       "$$\\left[\\begin{matrix}\\frac{\\left(2 e^{3 t} + 1\\right) e^{- 2 t}}{3} & \\frac{\\left(e^{3 t} - 1\\right) e^{- 2 t}}{3}\\\\\\frac{\\left(2 e^{3 t} - 2\\right) e^{- 2 t}}{3} & \\frac{\\left(e^{3 t} + 2\\right) e^{- 2 t}}{3}\\end{matrix}\\right]$$"
      ],
      "text/plain": [
       "⎡⎛   3⋅t    ⎞  -2⋅t  ⎛ 3⋅t    ⎞  -2⋅t⎤\n",
       "⎢⎝2⋅ℯ    + 1⎠⋅ℯ      ⎝ℯ    - 1⎠⋅ℯ    ⎥\n",
       "⎢──────────────────  ────────────────⎥\n",
       "⎢        3                  3        ⎥\n",
       "⎢                                    ⎥\n",
       "⎢⎛   3⋅t    ⎞  -2⋅t  ⎛ 3⋅t    ⎞  -2⋅t⎥\n",
       "⎢⎝2⋅ℯ    - 2⎠⋅ℯ      ⎝ℯ    + 2⎠⋅ℯ    ⎥\n",
       "⎢──────────────────  ────────────────⎥\n",
       "⎣        3                  3        ⎦"
      ]
     },
     "execution_count": 15,
     "metadata": {},
     "output_type": "execute_result"
    }
   ],
   "source": [
    "sympy.simplify(sympy.exp(A*t))"
   ]
  },
  {
   "cell_type": "markdown",
   "metadata": {},
   "source": [
    "# State Space\n",
    "\n",
    "Now consider the differential equation:\n",
    "    \n",
    "$\\dot{\\vec{x}}(t) = A \\vec{x}(t) + B \\vec{u}(t)$\n",
    "\n",
    "The output of the system, $y$ is given as:\n",
    "\n",
    "$y = Cx + Du$\n",
    "\n",
    "**Question 1: Use the Laplace Transform of the matrix differential equation to find an expression for x(t).**\n",
    "\n",
    "**Question 2: Use the Laplace Transform of the matrix differential equation to find an expression for y(t).**"
   ]
  },
  {
   "cell_type": "markdown",
   "metadata": {},
   "source": [
    "## Numerical Functions"
   ]
  },
  {
   "cell_type": "code",
   "execution_count": 16,
   "metadata": {},
   "outputs": [],
   "source": [
    "%reset -sf\n",
    "import control\n",
    "import numpy as np\n",
    "from scipy.linalg import expm"
   ]
  },
  {
   "cell_type": "code",
   "execution_count": 17,
   "metadata": {},
   "outputs": [
    {
     "data": {
      "text/plain": [
       "array([[ 0, -1],\n",
       "       [ 1,  0]])"
      ]
     },
     "execution_count": 17,
     "metadata": {},
     "output_type": "execute_result"
    }
   ],
   "source": [
    "A = np.array([[0, -1], [1, 0]])\n",
    "A"
   ]
  },
  {
   "cell_type": "code",
   "execution_count": 18,
   "metadata": {},
   "outputs": [
    {
     "data": {
      "text/plain": [
       "array([[ 0.54030231, -0.84147098],\n",
       "       [ 0.84147098,  0.54030231]])"
      ]
     },
     "execution_count": 18,
     "metadata": {},
     "output_type": "execute_result"
    }
   ],
   "source": [
    "t = np.linspace(0, 1)\n",
    "expm(A)"
   ]
  },
  {
   "cell_type": "code",
   "execution_count": 19,
   "metadata": {},
   "outputs": [
    {
     "data": {
      "text/plain": [
       "array([[ 0.54030231, -0.84147098],\n",
       "       [ 0.84147098,  0.54030231]])"
      ]
     },
     "execution_count": 19,
     "metadata": {},
     "output_type": "execute_result"
    }
   ],
   "source": [
    "expm(A)"
   ]
  },
  {
   "cell_type": "code",
   "execution_count": 20,
   "metadata": {},
   "outputs": [],
   "source": [
    "A = np.array([[0, -5], [1, -2]])\n",
    "evect = np.linalg.eig(A)"
   ]
  },
  {
   "cell_type": "code",
   "execution_count": 21,
   "metadata": {},
   "outputs": [
    {
     "data": {
      "text/plain": [
       "array([0.18257419-0.36514837j, 0.18257419+0.36514837j])"
      ]
     },
     "execution_count": 21,
     "metadata": {},
     "output_type": "execute_result"
    }
   ],
   "source": [
    "evect[1][1]"
   ]
  },
  {
   "cell_type": "code",
   "execution_count": 22,
   "metadata": {},
   "outputs": [
    {
     "data": {
      "text/plain": [
       "array([-1.+2.j, -1.-2.j])"
      ]
     },
     "execution_count": 22,
     "metadata": {},
     "output_type": "execute_result"
    }
   ],
   "source": [
    "evect[0]"
   ]
  },
  {
   "cell_type": "code",
   "execution_count": 23,
   "metadata": {},
   "outputs": [
    {
     "data": {
      "text/plain": [
       "array([[0.91287093+0.j        , 0.91287093-0.j        ],\n",
       "       [0.18257419-0.36514837j, 0.18257419+0.36514837j]])"
      ]
     },
     "execution_count": 23,
     "metadata": {},
     "output_type": "execute_result"
    }
   ],
   "source": [
    "evect[1]"
   ]
  }
 ],
 "metadata": {
  "kernelspec": {
   "display_name": "Python 3",
   "language": "python",
   "name": "python3"
  },
  "language_info": {
   "codemirror_mode": {
    "name": "ipython",
    "version": 3
   },
   "file_extension": ".py",
   "mimetype": "text/x-python",
   "name": "python",
   "nbconvert_exporter": "python",
   "pygments_lexer": "ipython3",
   "version": "3.7.1"
  }
 },
 "nbformat": 4,
 "nbformat_minor": 2
}
