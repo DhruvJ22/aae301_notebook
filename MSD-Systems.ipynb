{
 "cells": [
  {
   "cell_type": "markdown",
   "metadata": {},
   "source": [
    "# Mass Spring Damper Systems"
   ]
  },
  {
   "cell_type": "markdown",
   "metadata": {},
   "source": [
    "An square matrix, $P \\in \\mathbb{R}^{n\\times n}$,  such that $\\vec{x}^T P \\vec{x} > 0$ for all $\\vec{x} \\in \\mathbb{R}^n$ is called **positive definite**."
   ]
  },
  {
   "cell_type": "markdown",
   "metadata": {},
   "source": [
    "A matrix is **positive definite** if and only if:\n",
    "\n",
    "1. The matrix is **Hermitian** (self-adjoint).\n",
    "    * **Hermitian** $P=\\bar{P}^T$, where $\\bar{P}^T$ is often denoted as $P^*$\n",
    "    * This can be thought of the extension of *symmetric* to complex matrices. A Hermitian matrix is garunteed to have *real* eigenvalues.\n",
    "2. The matrix is **diagonally dominant** with a **positive diagonal**.\n",
    "    * A diagonally dominant matrix will have eigen values with positive real part if the diagonal is positive.\n",
    "    * If the diagonal is negative, it will have eigenvalues with negative real part.\n",
    "3. The matrix is invertible."
   ]
  },
  {
   "cell_type": "markdown",
   "metadata": {},
   "source": [
    "**Question 1**\n",
    "\n",
    "Is the matrix $\\begin{bmatrix}\n",
    "-1 & 0 \\\\\n",
    "0 & 2\n",
    "\\end{bmatrix}$ positive definite?"
   ]
  },
  {
   "cell_type": "markdown",
   "metadata": {},
   "source": [
    "**Question 2**\n",
    "\n",
    "Is the matrix $\\begin{bmatrix}\n",
    "2 & 1 \\\\\n",
    "1 & 3\n",
    "\\end{bmatrix}$ positive definite?"
   ]
  },
  {
   "cell_type": "markdown",
   "metadata": {},
   "source": [
    "**Question 3**\n",
    "\n",
    "Show that the matrix: $\\begin{bmatrix}\n",
    "1 & 1 \\\\\n",
    "1 & 1\n",
    "\\end{bmatrix}$ is not positive definite."
   ]
  },
  {
   "cell_type": "code",
   "execution_count": 1,
   "metadata": {},
   "outputs": [
    {
     "data": {
      "text/plain": [
       "array([[0.]])"
      ]
     },
     "execution_count": 1,
     "metadata": {},
     "output_type": "execute_result"
    }
   ],
   "source": [
    "import numpy as np\n",
    "A = np.array([\n",
    "    [1, 3],\n",
    "    [0, 2]\n",
    "], dtype=np.float)\n",
    "np.linalg.eig(A)\n",
    "\n",
    "x = np.array([[2], [-1]], dtype=np.float)\n",
    "x.T.dot(A).dot(x)"
   ]
  },
  {
   "cell_type": "code",
   "execution_count": 2,
   "metadata": {},
   "outputs": [
    {
     "data": {
      "text/latex": [
       "$$\\left[\\begin{matrix}x_{0}\\\\x_{1}\\end{matrix}\\right]$$"
      ],
      "text/plain": [
       "⎡x₀⎤\n",
       "⎢  ⎥\n",
       "⎣x₁⎦"
      ]
     },
     "execution_count": 2,
     "metadata": {},
     "output_type": "execute_result"
    }
   ],
   "source": [
    "import sympy\n",
    "sympy.init_printing()\n",
    "x = sympy.Matrix(sympy.symbols('x_0:2'))\n",
    "x"
   ]
  },
  {
   "cell_type": "code",
   "execution_count": 3,
   "metadata": {},
   "outputs": [
    {
     "data": {
      "text/latex": [
       "$$\\left[\\begin{matrix}A_{0} & A_{1}\\\\A_{2} & A_{3}\\end{matrix}\\right]$$"
      ],
      "text/plain": [
       "⎡A₀  A₁⎤\n",
       "⎢      ⎥\n",
       "⎣A₂  A₃⎦"
      ]
     },
     "execution_count": 3,
     "metadata": {},
     "output_type": "execute_result"
    }
   ],
   "source": [
    "A = sympy.Matrix(sympy.symbols('A_0:4')).reshape(2, 2)\n",
    "A"
   ]
  },
  {
   "cell_type": "code",
   "execution_count": 4,
   "metadata": {},
   "outputs": [
    {
     "data": {
      "image/png": "[encoded data removed]",
      "text/latex": [
       "$$A_{0} x_{0}^{2} + A_{3} x_{1}^{2} + x_{0} x_{1} \\left(A_{1} + A_{2}\\right)$$"
      ],
      "text/plain": [
       "     2        2                  \n",
       "A₀⋅x₀  + A₃⋅x₁  + x₀⋅x₁⋅(A₁ + A₂)"
      ]
     },
     "execution_count": 4,
     "metadata": {},
     "output_type": "execute_result"
    }
   ],
   "source": [
    "(x.T*A*x)[0].expand().collect(x[0]*x[1])"
   ]
  },
  {
   "cell_type": "code",
   "execution_count": 5,
   "metadata": {
    "scrolled": true
   },
   "outputs": [
    {
     "data": {
      "text/latex": [
       "$$\\left ( \\left[\\begin{matrix}1 & 0\\\\0 & 2\\end{matrix}\\right], \\quad \\left[\\begin{matrix}7 & -4\\\\-4 & 4\\end{matrix}\\right], \\quad \\left[\\begin{matrix}11 & -5\\\\-5 & 12\\end{matrix}\\right]\\right )$$"
      ],
      "text/plain": [
       "⎛⎡1  0⎤  ⎡7   -4⎤  ⎡11  -5⎤⎞\n",
       "⎜⎢    ⎥, ⎢      ⎥, ⎢      ⎥⎟\n",
       "⎝⎣0  2⎦  ⎣-4  4 ⎦  ⎣-5  12⎦⎠"
      ]
     },
     "execution_count": 5,
     "metadata": {},
     "output_type": "execute_result"
    }
   ],
   "source": [
    "m1 = 1\n",
    "m2 = 2\n",
    "c1 = 3\n",
    "c2 = 4\n",
    "k1 = 6\n",
    "k2 = 5\n",
    "k3 = 7\n",
    "\n",
    "M = sympy.Matrix([\n",
    "    [m1, 0],\n",
    "    [0, m2]\n",
    "])\n",
    "MI = M.inv()\n",
    "\n",
    "Phi = sympy.Matrix([\n",
    "    [c1+c2, -c2],\n",
    "    [-c2, c2]\n",
    "])\n",
    "\n",
    "K = sympy.Matrix([\n",
    "    [k1 + k2, -k2],\n",
    "    [-k2, k2 + k3]\n",
    "])\n",
    "M, Phi, K"
   ]
  },
  {
   "cell_type": "code",
   "execution_count": 6,
   "metadata": {},
   "outputs": [
    {
     "data": {
      "image/png": "[encoded data removed]",
      "text/latex": [
       "$$s^{4} + 9 s^{3} + 23 s^{2} + 44 s + \\frac{107}{2}$$"
      ],
      "text/plain": [
       " 4      3       2          107\n",
       "s  + 9⋅s  + 23⋅s  + 44⋅s + ───\n",
       "                            2 "
      ]
     },
     "execution_count": 6,
     "metadata": {},
     "output_type": "execute_result"
    }
   ],
   "source": [
    "Z = sympy.zeros(2, 2)\n",
    "I = sympy.eye(2)\n",
    "M = sympy.Matrix(M).inv()\n",
    "A = sympy.Matrix.vstack(\n",
    "    sympy.Matrix.hstack(Z, I),\n",
    "    sympy.Matrix.hstack(-MI*K, -MI*Phi)\n",
    ")\n",
    "B = sympy.Matrix.vstack(Z, MI)\n",
    "C = sympy.Matrix.hstack(I, Z)\n",
    "D = Z\n",
    "s = sympy.symbols('s')\n",
    "(s*sympy.eye(4) - A).det()"
   ]
  },
  {
   "cell_type": "code",
   "execution_count": 7,
   "metadata": {},
   "outputs": [
    {
     "data": {
      "text/plain": [
       "A = [[0 0 1 0]\n",
       " [0 0 0 1]\n",
       " [-11 5 -7 4]\n",
       " [5/2 -6 2 -2]]\n",
       "\n",
       "B = [[0 0]\n",
       " [0 0]\n",
       " [1 0]\n",
       " [0 1/2]]\n",
       "\n",
       "C = [[1 0 0 0]\n",
       " [0 1 0 0]]\n",
       "\n",
       "D = [[0 0]\n",
       " [0 0]]"
      ]
     },
     "execution_count": 7,
     "metadata": {},
     "output_type": "execute_result"
    }
   ],
   "source": [
    "import control\n",
    "sys = control.ss(A, B, C, D)\n",
    "sys"
   ]
  },
  {
   "cell_type": "code",
   "execution_count": 8,
   "metadata": {},
   "outputs": [
    {
     "data": {
      "text/plain": [
       "\n",
       "Input 1 to output 1:\n",
       "          s^2 + 2 s + 6\n",
       "----------------------------------\n",
       "s^4 + 9 s^3 + 23 s^2 + 44 s + 53.5\n",
       "\n",
       "Input 1 to output 2:\n",
       "            2 s + 2.5\n",
       "----------------------------------\n",
       "s^4 + 9 s^3 + 23 s^2 + 44 s + 53.5\n",
       "\n",
       "Input 2 to output 1:\n",
       "            2 s + 2.5\n",
       "----------------------------------\n",
       "s^4 + 9 s^3 + 23 s^2 + 44 s + 53.5\n",
       "\n",
       "Input 2 to output 2:\n",
       "      0.5 s^2 + 3.5 s + 5.5\n",
       "----------------------------------\n",
       "s^4 + 9 s^3 + 23 s^2 + 44 s + 53.5"
      ]
     },
     "execution_count": 8,
     "metadata": {},
     "output_type": "execute_result"
    }
   ],
   "source": [
    "G = control.ss2tf(sys)\n",
    "G"
   ]
  },
  {
   "cell_type": "markdown",
   "metadata": {},
   "source": [
    "U = 1/s\n",
    "\n",
    "Y = GU\n",
    "\n",
    "$y(\\infty) = \\lim_{s \\rightarrow 0} s Y(s)$ "
   ]
  },
  {
   "cell_type": "code",
   "execution_count": 9,
   "metadata": {},
   "outputs": [
    {
     "data": {
      "text/plain": [
       "\n",
       "Input 1 to output 1:\n",
       "          s^2 + 2 s + 6\n",
       "----------------------------------\n",
       "s^4 + 9 s^3 + 23 s^2 + 44 s + 53.5\n",
       "\n",
       "Input 1 to output 2:\n",
       "            2 s + 2.5\n",
       "----------------------------------\n",
       "s^4 + 9 s^3 + 23 s^2 + 44 s + 53.5\n",
       "\n",
       "Input 2 to output 1:\n",
       "            2 s + 2.5\n",
       "----------------------------------\n",
       "s^4 + 9 s^3 + 23 s^2 + 44 s + 53.5\n",
       "\n",
       "Input 2 to output 2:\n",
       "      0.5 s^2 + 3.5 s + 5.5\n",
       "----------------------------------\n",
       "s^4 + 9 s^3 + 23 s^2 + 44 s + 53.5"
      ]
     },
     "execution_count": 9,
     "metadata": {},
     "output_type": "execute_result"
    }
   ],
   "source": [
    "G"
   ]
  },
  {
   "cell_type": "code",
   "execution_count": 10,
   "metadata": {},
   "outputs": [
    {
     "data": {
      "text/plain": [
       "\n",
       "            2 s + 2.5\n",
       "----------------------------------\n",
       "s^4 + 9 s^3 + 23 s^2 + 44 s + 53.5"
      ]
     },
     "execution_count": 10,
     "metadata": {},
     "output_type": "execute_result"
    }
   ],
   "source": [
    "G[0, 1]"
   ]
  },
  {
   "cell_type": "code",
   "execution_count": 11,
   "metadata": {},
   "outputs": [
    {
     "data": {
      "image/png": "[encoded data removed]",
      "text/plain": [
       "<Figure size 432x288 with 1 Axes>"
      ]
     },
     "metadata": {
      "needs_background": "light"
     },
     "output_type": "display_data"
    }
   ],
   "source": [
    "import matplotlib.pyplot as plt\n",
    "t, y = control.step_response(G[0, 0], T=np.linspace(0, 20, 1000))\n",
    "plt.plot(t, y)\n",
    "plt.hlines(1, 0, 20)\n",
    "plt.hlines(6/53.5, t[0], t[-1])\n",
    "plt.grid()"
   ]
  },
  {
   "cell_type": "code",
   "execution_count": 12,
   "metadata": {},
   "outputs": [
    {
     "data": {
      "text/plain": [
       "(array([2., 0.]), array([[ 0.70710678,  0.70710678],\n",
       "        [-0.70710678,  0.70710678]]))"
      ]
     },
     "execution_count": 12,
     "metadata": {},
     "output_type": "execute_result"
    }
   ],
   "source": [
    "A = np.array([[1, -1], [-1, 1]])\n",
    "np.linalg.eig(A)"
   ]
  }
 ],
 "metadata": {
  "kernelspec": {
   "display_name": "Python 3",
   "language": "python",
   "name": "python3"
  },
  "language_info": {
   "codemirror_mode": {
    "name": "ipython",
    "version": 3
   },
   "file_extension": ".py",
   "mimetype": "text/x-python",
   "name": "python",
   "nbconvert_exporter": "python",
   "pygments_lexer": "ipython3",
   "version": "3.7.1"
  }
 },
 "nbformat": 4,
 "nbformat_minor": 2
}
