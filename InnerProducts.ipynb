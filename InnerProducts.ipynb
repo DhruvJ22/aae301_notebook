{
 "cells": [
  {
   "cell_type": "markdown",
   "metadata": {},
   "source": [
    "# Orthogonal Decomposition Example\n",
    "\n",
    "We will find the best approximation of e^t by a second degree polynomial."
   ]
  },
  {
   "cell_type": "code",
   "execution_count": 1,
   "metadata": {},
   "outputs": [],
   "source": [
    "import sympy\n",
    "sympy.init_printing()\n",
    "import matplotlib.pyplot as plt\n",
    "import numpy as np"
   ]
  },
  {
   "cell_type": "code",
   "execution_count": 2,
   "metadata": {},
   "outputs": [],
   "source": [
    "t = sympy.symbols('t', real=True)"
   ]
  },
  {
   "cell_type": "code",
   "execution_count": 3,
   "metadata": {},
   "outputs": [],
   "source": [
    "class L2:\n",
    "    \"\"\"\n",
    "    Defines an inner product space, Lebesgue space, for functions\n",
    "    whose 2nd-power of the absolute value is Lebesque integrable.\n",
    "    \n",
    "    L2 is the only Hilbert space among Lebesgue spaces.\n",
    "    Hilbert space have the concept of angle and distance and are complete\n",
    "    so that the stadard notions of calculus can be applied.\n",
    "    \n",
    "    https://en.wikipedia.org/wiki/Lp_space\n",
    "    \"\"\"\n",
    "    \n",
    "    def __init__(self, a, b):\n",
    "        self.a = a\n",
    "        self.b = b\n",
    "\n",
    "    def inner_product(self, f, g):\n",
    "        a = self.a\n",
    "        b = self.b\n",
    "        return sympy.integrate(f*sympy.conjugate(g), (t, a, b))/(b - a)\n",
    "    \n",
    "    def norm(self, f):\n",
    "        return self.inner_product(f, f)\n",
    "    \n",
    "    def distance(self, f, g):\n",
    "        return self.norm(f - g)"
   ]
  },
  {
   "cell_type": "code",
   "execution_count": 4,
   "metadata": {},
   "outputs": [],
   "source": [
    "S = L2(0, 1)"
   ]
  },
  {
   "cell_type": "code",
   "execution_count": 5,
   "metadata": {},
   "outputs": [
    {
     "data": {
      "text/latex": [
       "$$\\left[\\begin{matrix}1 & t & t^{2} & t^{3} & t^{4}\\end{matrix}\\right]$$"
      ],
      "text/plain": [
       "⎡       2   3   4⎤\n",
       "⎣1  t  t   t   t ⎦"
      ]
     },
     "execution_count": 5,
     "metadata": {},
     "output_type": "execute_result"
    }
   ],
   "source": [
    "F = sympy.Matrix([1, t, t**2, t**3, t**4]).T\n",
    "F"
   ]
  },
  {
   "cell_type": "code",
   "execution_count": 6,
   "metadata": {},
   "outputs": [
    {
     "data": {
      "text/latex": [
       "$$\\left[\\begin{matrix}1 & \\frac{1}{2} & \\frac{1}{3} & \\frac{1}{4} & \\frac{1}{5}\\\\\\frac{1}{2} & \\frac{1}{3} & \\frac{1}{4} & \\frac{1}{5} & \\frac{1}{6}\\\\\\frac{1}{3} & \\frac{1}{4} & \\frac{1}{5} & \\frac{1}{6} & \\frac{1}{7}\\\\\\frac{1}{4} & \\frac{1}{5} & \\frac{1}{6} & \\frac{1}{7} & \\frac{1}{8}\\\\\\frac{1}{5} & \\frac{1}{6} & \\frac{1}{7} & \\frac{1}{8} & \\frac{1}{9}\\end{matrix}\\right]$$"
      ],
      "text/plain": [
       "⎡ 1   1/2  1/3  1/4  1/5⎤\n",
       "⎢                       ⎥\n",
       "⎢1/2  1/3  1/4  1/5  1/6⎥\n",
       "⎢                       ⎥\n",
       "⎢1/3  1/4  1/5  1/6  1/7⎥\n",
       "⎢                       ⎥\n",
       "⎢1/4  1/5  1/6  1/7  1/8⎥\n",
       "⎢                       ⎥\n",
       "⎣1/5  1/6  1/7  1/8  1/9⎦"
      ]
     },
     "execution_count": 6,
     "metadata": {},
     "output_type": "execute_result"
    }
   ],
   "source": [
    "G = sympy.Matrix([\n",
    "    [S.inner_product(F[i], F[j])\n",
    "    for i in range(len(F))]\n",
    "    for j in range(len(F))\n",
    "])\n",
    "G"
   ]
  },
  {
   "cell_type": "code",
   "execution_count": 7,
   "metadata": {},
   "outputs": [],
   "source": [
    "f = sympy.Piecewise(\n",
    "    (0, t < 0.5),\n",
    "    (1, t >= 0.5 )\n",
    ")\n",
    "f = sympy.exp(t)\n",
    "\n",
    "def project(S, F, f):\n",
    "    \"\"\"\n",
    "    see: https://engineering.purdue.edu/AAECourses/aae567/2016/probability.pdf\n",
    "    for details on the math, Theorem 4.3.2\n",
    "    pg. 129\n",
    "    \"\"\"\n",
    "    X = sympy.Matrix([[S.inner_product(F[i], f) for i in range(len(F))]])\n",
    "    C = X*G.inv()\n",
    "    f_approx = (C*F.T)[0]\n",
    "    return f_approx"
   ]
  },
  {
   "cell_type": "code",
   "execution_count": 8,
   "metadata": {},
   "outputs": [
    {
     "data": {
      "image/png": "[encoded data removed]",
      "text/latex": [
       "$$t^{4} \\left(-1714230 + 630630 e\\right) + t^{3} \\left(- 1271200 e + 3455480\\right) + t^{2} \\left(-2245110 + 825930 e\\right) + t \\left(- 186360 e + 506580\\right) - 25945 + 9545 e$$"
      ],
      "text/plain": [
       " 4                          3                           2                     \n",
       "t ⋅(-1714230 + 630630⋅ℯ) + t ⋅(-1271200⋅ℯ + 3455480) + t ⋅(-2245110 + 825930⋅ℯ\n",
       "\n",
       "                                           \n",
       ") + t⋅(-186360⋅ℯ + 506580) - 25945 + 9545⋅ℯ"
      ]
     },
     "execution_count": 8,
     "metadata": {},
     "output_type": "execute_result"
    }
   ],
   "source": [
    "f_approx = project(S, F, f)\n",
    "f_approx"
   ]
  },
  {
   "cell_type": "code",
   "execution_count": 9,
   "metadata": {},
   "outputs": [
    {
     "data": {
      "image/png": "[encoded data removed]",
      "text/latex": [
       "$$0.0694811276625842 t^{4} + 0.139662861824036 t^{3} + 0.510579179041088 t^{2} + 0.998448372352868 t + 1.00005264158608$$"
      ],
      "text/plain": [
       "                    4                      3                      2           \n",
       "0.0694811276625842⋅t  + 0.139662861824036⋅t  + 0.510579179041088⋅t  + 0.998448\n",
       "\n",
       "                              \n",
       "372352868⋅t + 1.00005264158608"
      ]
     },
     "execution_count": 9,
     "metadata": {},
     "output_type": "execute_result"
    }
   ],
   "source": [
    "sympy.N(f_approx)"
   ]
  },
  {
   "cell_type": "code",
   "execution_count": 10,
   "metadata": {},
   "outputs": [],
   "source": [
    "def sym_eval(f, t_eval):\n",
    "    return sympy.lambdify((t), (sympy.N(f)))(t_eval)"
   ]
  },
  {
   "cell_type": "code",
   "execution_count": 11,
   "metadata": {},
   "outputs": [
    {
     "data": {
      "image/png": "[encoded data removed]",
      "text/plain": [
       "<Figure size 432x288 with 1 Axes>"
      ]
     },
     "metadata": {
      "needs_background": "light"
     },
     "output_type": "display_data"
    },
    {
     "data": {
      "image/png": "[encoded data removed]",
      "text/plain": [
       "<Figure size 432x288 with 1 Axes>"
      ]
     },
     "metadata": {
      "needs_background": "light"
     },
     "output_type": "display_data"
    }
   ],
   "source": [
    "def plotting():\n",
    "    t_eval = np.linspace(0, 1)\n",
    "    \n",
    "    plt.figure()\n",
    "    plt.title('approximation')\n",
    "    plt.plot(sym_eval(f_approx, t_eval))\n",
    "    plt.plot(sym_eval(f, t_eval), 'o', alpha=0.5)\n",
    "    plt.grid()\n",
    "    \n",
    "    plt.figure()\n",
    "    plt.title('error')\n",
    "    plt.plot(sym_eval(f - f_approx, t_eval))\n",
    "    plt.grid()\n",
    "    \n",
    "plotting()"
   ]
  }
 ],
 "metadata": {
  "kernelspec": {
   "display_name": "Python 3",
   "language": "python",
   "name": "python3"
  },
  "language_info": {
   "codemirror_mode": {
    "name": "ipython",
    "version": 3
   },
   "file_extension": ".py",
   "mimetype": "text/x-python",
   "name": "python",
   "nbconvert_exporter": "python",
   "pygments_lexer": "ipython3",
   "version": "3.7.1"
  }
 },
 "nbformat": 4,
 "nbformat_minor": 2
}
