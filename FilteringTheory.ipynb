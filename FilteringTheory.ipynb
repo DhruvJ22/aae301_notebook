{
 "cells": [
  {
   "cell_type": "code",
   "execution_count": 3,
   "metadata": {},
   "outputs": [],
   "source": [
    "import numpy as np\n",
    "import control"
   ]
  },
  {
   "cell_type": "code",
   "execution_count": 4,
   "metadata": {},
   "outputs": [],
   "source": [
    "M = np.array([\n",
    "    [2, 1],\n",
    "    [1, 1]\n",
    "])\n",
    "Phi = np.array([\n",
    "    [1, 0],\n",
    "    [0, 0]\n",
    "])\n",
    "K = np.array([\n",
    "    [2, 1],\n",
    "    [1, 2]\n",
    "])"
   ]
  },
  {
   "cell_type": "markdown",
   "metadata": {},
   "source": [
    "$M \\ddot{\\vec{q}} + \\Phi \\dot{\\vec{q}} + K \\vec{q} = B \\vec{u}$\n",
    "\n",
    "**Question: is this system stable? Does the stability depend on the the B matrix?**"
   ]
  },
  {
   "cell_type": "code",
   "execution_count": 5,
   "metadata": {},
   "outputs": [
    {
     "data": {
      "text/plain": [
       "(array([2.61803399, 0.38196601]), array([1., 0.]), array([3., 1.]))"
      ]
     },
     "execution_count": 5,
     "metadata": {},
     "output_type": "execute_result"
    }
   ],
   "source": [
    "np.linalg.eig(M)[0], np.linalg.eig(Phi)[0], np.linalg.eig(K)[0]"
   ]
  },
  {
   "cell_type": "code",
   "execution_count": 6,
   "metadata": {},
   "outputs": [],
   "source": [
    "MI = np.linalg.inv(M)\n",
    "A = np.block([\n",
    "    [np.zeros((2, 2)), np.eye(2)],\n",
    "    [-MI.dot(K), -MI.dot(Phi)]\n",
    "])\n",
    "B = np.array([[0, 0, 0, 1]]).T\n",
    "B\n",
    "#np.real(np.linalg.eig(A)[0])\n",
    "C = np.eye(4)\n",
    "D = np.zeros((4, 1))"
   ]
  },
  {
   "cell_type": "code",
   "execution_count": 7,
   "metadata": {},
   "outputs": [
    {
     "data": {
      "text/plain": [
       "A = [[ 0.  0.  1.  0.]\n",
       " [ 0.  0.  0.  1.]\n",
       " [-1.  1. -1. -0.]\n",
       " [-0. -3.  1. -0.]]\n",
       "\n",
       "B = [[0]\n",
       " [0]\n",
       " [0]\n",
       " [1]]\n",
       "\n",
       "C = [[1. 0. 0. 0.]\n",
       " [0. 1. 0. 0.]\n",
       " [0. 0. 1. 0.]\n",
       " [0. 0. 0. 1.]]\n",
       "\n",
       "D = [[0.]\n",
       " [0.]\n",
       " [0.]\n",
       " [0.]]"
      ]
     },
     "execution_count": 7,
     "metadata": {},
     "output_type": "execute_result"
    }
   ],
   "source": [
    "ss = control.ss(A, B, C, D)\n",
    "ss"
   ]
  },
  {
   "cell_type": "code",
   "execution_count": 8,
   "metadata": {},
   "outputs": [
    {
     "data": {
      "text/plain": [
       "\n",
       "Input 1 to output 1:\n",
       "             1\n",
       "---------------------------\n",
       "s^4 + s^3 + 4 s^2 + 2 s + 3\n",
       "\n",
       "Input 1 to output 2:\n",
       "        s^2 + s + 1\n",
       "---------------------------\n",
       "s^4 + s^3 + 4 s^2 + 2 s + 3\n",
       "\n",
       "Input 1 to output 3:\n",
       "             s\n",
       "---------------------------\n",
       "s^4 + s^3 + 4 s^2 + 2 s + 3\n",
       "\n",
       "Input 1 to output 4:\n",
       " s^3 + s^2 + s - 5.551e-17\n",
       "---------------------------\n",
       "s^4 + s^3 + 4 s^2 + 2 s + 3"
      ]
     },
     "execution_count": 8,
     "metadata": {},
     "output_type": "execute_result"
    }
   ],
   "source": [
    "G = control.ss2tf(ss)\n",
    "G"
   ]
  },
  {
   "cell_type": "code",
   "execution_count": 9,
   "metadata": {},
   "outputs": [
    {
     "data": {
      "text/plain": [
       "\n",
       "             1\n",
       "---------------------------\n",
       "s^4 + s^3 + 4 s^2 + 2 s + 3"
      ]
     },
     "execution_count": 9,
     "metadata": {},
     "output_type": "execute_result"
    }
   ],
   "source": [
    "G00 = G[0, 0]\n",
    "G00"
   ]
  },
  {
   "cell_type": "markdown",
   "metadata": {},
   "source": [
    "Final value:\n",
    "to a unit step\n",
    "lim s-> 0 s*G(s)\n"
   ]
  },
  {
   "cell_type": "code",
   "execution_count": 10,
   "metadata": {},
   "outputs": [
    {
     "data": {
      "text/plain": [
       "(-9.54242509439325+0j)"
      ]
     },
     "execution_count": 10,
     "metadata": {},
     "output_type": "execute_result"
    }
   ],
   "source": [
    "20*np.log10(G00(0))"
   ]
  },
  {
   "cell_type": "code",
   "execution_count": 11,
   "metadata": {},
   "outputs": [
    {
     "ename": "ValueError",
     "evalue": "invalid number of arguments",
     "output_type": "error",
     "traceback": [
      "\u001b[0;31m---------------------------------------------------------------------------\u001b[0m",
      "\u001b[0;31mValueError\u001b[0m                                Traceback (most recent call last)",
      "\u001b[0;32m<ipython-input-11-026e00365a49>\u001b[0m in \u001b[0;36m<module>\u001b[0;34m\u001b[0m\n\u001b[0;32m----> 1\u001b[0;31m \u001b[0;36m20\u001b[0m\u001b[0;34m*\u001b[0m\u001b[0mnp\u001b[0m\u001b[0;34m.\u001b[0m\u001b[0mlog10\u001b[0m\u001b[0;34m(\u001b[0m\u001b[0;34m)\u001b[0m\u001b[0;34m\u001b[0m\u001b[0;34m\u001b[0m\u001b[0m\n\u001b[0m",
      "\u001b[0;31mValueError\u001b[0m: invalid number of arguments"
     ]
    }
   ],
   "source": [
    "20*np.log10()"
   ]
  },
  {
   "cell_type": "code",
   "execution_count": 12,
   "metadata": {},
   "outputs": [
    {
     "data": {
      "text/plain": [
       "5623.413251903491"
      ]
     },
     "execution_count": 12,
     "metadata": {},
     "output_type": "execute_result"
    }
   ],
   "source": [
    "1/10**(-75/20)"
   ]
  },
  {
   "cell_type": "code",
   "execution_count": 13,
   "metadata": {},
   "outputs": [
    {
     "data": {
      "text/plain": [
       "(-9.54242509439325+0j)"
      ]
     },
     "execution_count": 13,
     "metadata": {},
     "output_type": "execute_result"
    }
   ],
   "source": [
    "20*np.log10(G[0, 0](0))"
   ]
  },
  {
   "cell_type": "code",
   "execution_count": 14,
   "metadata": {},
   "outputs": [
    {
     "data": {
      "image/png": "[encoded data removed]",
      "text/plain": [
       "<Figure size 432x288 with 2 Axes>"
      ]
     },
     "metadata": {
      "needs_background": "light"
     },
     "output_type": "display_data"
    }
   ],
   "source": [
    "control.bode(G[0, 0], dB=True);"
   ]
  },
  {
   "cell_type": "code",
   "execution_count": 16,
   "metadata": {},
   "outputs": [
    {
     "data": {
      "image/png": "[encoded data removed]",
      "text/plain": [
       "<Figure size 432x288 with 1 Axes>"
      ]
     },
     "metadata": {
      "needs_background": "light"
     },
     "output_type": "display_data"
    }
   ],
   "source": [
    "control.rlocus(G[0, 0]);"
   ]
  },
  {
   "cell_type": "code",
   "execution_count": null,
   "metadata": {},
   "outputs": [],
   "source": []
  },
  {
   "cell_type": "code",
   "execution_count": 59,
   "metadata": {},
   "outputs": [
    {
     "data": {
      "text/plain": [
       "<matplotlib.legend.Legend at 0x7f0093979668>"
      ]
     },
     "execution_count": 59,
     "metadata": {},
     "output_type": "execute_result"
    },
    {
     "data": {
      "image/png": "[encoded data removed]",
      "text/plain": [
       "<Figure size 432x288 with 1 Axes>"
      ]
     },
     "metadata": {
      "needs_background": "light"
     },
     "output_type": "display_data"
    }
   ],
   "source": [
    "import matplotlib.pyplot as plt\n",
    "t = np.linspace(0, 1000, 10000)\n",
    "u = 1*np.ones(len(t)) #np.sin(0.01*t)\n",
    "t, y, x = control.forced_response(G[0, 0], T=t, U=u)\n",
    "plt.plot(t, y, label='ouput')\n",
    "plt.plot(t, u, label='input')\n",
    "plt.legend()"
   ]
  },
  {
   "cell_type": "code",
   "execution_count": null,
   "metadata": {},
   "outputs": [],
   "source": []
  }
 ],
 "metadata": {
  "kernelspec": {
   "display_name": "Python 3",
   "language": "python",
   "name": "python3"
  },
  "language_info": {
   "codemirror_mode": {
    "name": "ipython",
    "version": 3
   },
   "file_extension": ".py",
   "mimetype": "text/x-python",
   "name": "python",
   "nbconvert_exporter": "python",
   "pygments_lexer": "ipython3",
   "version": "3.7.1"
  }
 },
 "nbformat": 4,
 "nbformat_minor": 2
}
