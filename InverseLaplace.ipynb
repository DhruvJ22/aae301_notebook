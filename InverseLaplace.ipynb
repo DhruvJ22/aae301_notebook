{
 "cells": [
  {
   "cell_type": "markdown",
   "metadata": {},
   "source": [
    "# Inverse Laplace Transform"
   ]
  },
  {
   "cell_type": "markdown",
   "metadata": {},
   "source": [
    "* Pole/Residue Decomposition\n",
    "* Partial fraction decomposition\n",
    "* Final value theorem"
   ]
  },
  {
   "cell_type": "markdown",
   "metadata": {},
   "source": [
    "## Pole/Residue Decomposition"
   ]
  },
  {
   "cell_type": "code",
   "execution_count": 1,
   "metadata": {},
   "outputs": [],
   "source": [
    "%matplotlib inline\n",
    "import control\n",
    "import sympy\n",
    "import scipy.signal as sig\n",
    "import numpy as np\n",
    "import matplotlib.pyplot as  plt"
   ]
  },
  {
   "cell_type": "code",
   "execution_count": 2,
   "metadata": {},
   "outputs": [
    {
     "data": {
      "text/plain": [
       "\n",
       "   s + 1\n",
       "-----------\n",
       "s^2 + s + 2"
      ]
     },
     "execution_count": 2,
     "metadata": {},
     "output_type": "execute_result"
    }
   ],
   "source": [
    "s = control.tf([1, 0], [0, 1])\n",
    "G = (s+1)/(s**2 + 1*s + 2)\n",
    "G"
   ]
  },
  {
   "cell_type": "code",
   "execution_count": 3,
   "metadata": {},
   "outputs": [
    {
     "data": {
      "text/plain": [
       "(array([0.5-0.18898224j, 0.5+0.18898224j]),\n",
       " array([-0.5+1.32287566j, -0.5-1.32287566j]),\n",
       " array([0.]))"
      ]
     },
     "execution_count": 3,
     "metadata": {},
     "output_type": "execute_result"
    }
   ],
   "source": [
    "r_vect, p_vect, k = sig.residue(G.num[0][0], G.den[0][0])\n",
    "r_vect, p_vect, k"
   ]
  },
  {
   "cell_type": "markdown",
   "metadata": {},
   "source": [
    "We now reconstruct the signal using the inverse laplace transform for each pole/residue term.\n",
    "\n",
    "$g(t) = \\mathcal{L}^{-1}\\left[\\sum\\limits_{i=1}^{k} \\dfrac{R_i}{s-p_i}\\right] = \\sum\\limits_{i=1}^{k} R_i e^{p_it}$"
   ]
  },
  {
   "cell_type": "markdown",
   "metadata": {},
   "source": [
    "The residue may be found in general even for for repeated roots or order $m$, using:\n",
    "\n",
    "$F(s) = \\dots + \\sum\\limits_{k=0}^{m-1}\\dfrac{r_k}{(s-p)^{m-k}}$\n",
    "\n",
    "\n",
    "$ r_k = \\dfrac{1}{k!}\\left[ \\dfrac{d^k}{ds^k} (s-p)^m F(s)\\right]_{s=p}$"
   ]
  },
  {
   "cell_type": "code",
   "execution_count": 4,
   "metadata": {},
   "outputs": [],
   "source": [
    "t = np.linspace(0, 20, 100)\n",
    "y = np.zeros(len(t), dtype=np.complex)\n",
    "for r, p in zip(r_vect, p_vect):\n",
    "    y += r*np.exp(p*t)\n",
    "assert np.linalg.norm(np.imag(y) < 1e-10)  # make sure imaginary is negligible\n",
    "y = np.real(y)"
   ]
  },
  {
   "cell_type": "markdown",
   "metadata": {},
   "source": [
    "We compare this to the impulse response of $G(s)$, which should be the same."
   ]
  },
  {
   "cell_type": "code",
   "execution_count": 5,
   "metadata": {},
   "outputs": [
    {
     "data": {
      "text/plain": [
       "<matplotlib.legend.Legend at 0x7fa1c4d37e48>"
      ]
     },
     "execution_count": 5,
     "metadata": {},
     "output_type": "execute_result"
    },
    {
     "data": {
      "image/png": "[encoded data removed]",
      "text/plain": [
       "<Figure size 432x288 with 1 Axes>"
      ]
     },
     "metadata": {
      "needs_background": "light"
     },
     "output_type": "display_data"
    }
   ],
   "source": [
    "t_imp, y_imp = control.impulse_response(G, T=t)\n",
    "plt.plot(t_imp, y_imp, 'k', linewidth=5, label='impulse response')\n",
    "plt.plot(t, y, 'y', linewidth=3, label='inverse laplace')\n",
    "plt.grid()\n",
    "plt.legend()"
   ]
  },
  {
   "cell_type": "markdown",
   "metadata": {},
   "source": [
    "## DC Motor Example"
   ]
  },
  {
   "cell_type": "markdown",
   "metadata": {},
   "source": [
    "<img src=\"fig/dc-motor.png\" alt=\"Drawing\" style=\"width: 400px;\" align=\"left\"/>\n",
    "\n",
    "\n",
    "The torque, $T$, is proportional to the current, $i$ with constant $K$:\n",
    "\n",
    "$T = K i$\n",
    "\n",
    "The back EMF is proportional to the shaft rotational speed with constant $K$:\n",
    "\n",
    "$e = K\\dot{\\theta}$\n",
    "\n",
    "The equation of motion for the motor shaft is:\n",
    "\n",
    "$J \\ddot{\\theta} + b \\dot{\\theta} = T$\n",
    "\n",
    "Kirchhoff's voltage law gives:\n",
    "\n",
    "$L \\dfrac{di}{dt} + Ri = V - e$"
   ]
  },
  {
   "cell_type": "markdown",
   "metadata": {},
   "source": [
    "Equations of motion and transfer function derived in hotseat exercise."
   ]
  },
  {
   "cell_type": "markdown",
   "metadata": {},
   "source": [
    "## Final Value Theorem"
   ]
  },
  {
   "cell_type": "code",
   "execution_count": 6,
   "metadata": {},
   "outputs": [
    {
     "data": {
      "text/plain": [
       "\n",
       "        1\n",
       "-----------------\n",
       "s^3 + 2 s^2 + 2 s"
      ]
     },
     "execution_count": 6,
     "metadata": {},
     "output_type": "execute_result"
    }
   ],
   "source": [
    "G2 = 1/ (s*(s**2 + 2*s + 2))\n",
    "G2"
   ]
  },
  {
   "cell_type": "markdown",
   "metadata": {},
   "source": [
    "The final value theorem, is typicaly stated as:\n",
    "\n",
    "$\\lim\\limits_{t \\rightarrow \\infty} y(t) = \\lim\\limits_{s \\rightarrow 0} s Y(s)$\n",
    "\n",
    "Note that this definition is a more general than the version in the book which may be considered to be a DC gain theorem. And only applies for constant input signals. This version applies for arbitary input signals."
   ]
  },
  {
   "cell_type": "code",
   "execution_count": 7,
   "metadata": {},
   "outputs": [
    {
     "name": "stdout",
     "output_type": "stream",
     "text": [
      "0 states have been removed from the model\n",
      "1 states have been removed from the model\n",
      "U: 1\n",
      "final value: 0.5000000000000002\n"
     ]
    },
    {
     "name": "stderr",
     "output_type": "stream",
     "text": [
      "/home/jgoppert/anaconda3/envs/aae301/lib/python3.7/site-packages/control/timeresp.py:570: UserWarning: System has direct feedthrough: ``D != 0``. The infinite impulse at ``t=0`` does not appear in the output. \n",
      "Results may be meaningless!\n",
      "  warnings.warn('System has direct feedthrough: ``D != 0``. The infinite '\n"
     ]
    },
    {
     "data": {
      "image/png": "[encoded data removed]",
      "text/plain": [
       "<Figure size 432x288 with 1 Axes>"
      ]
     },
     "metadata": {
      "needs_background": "light"
     },
     "output_type": "display_data"
    },
    {
     "name": "stdout",
     "output_type": "stream",
     "text": [
      "0 states have been removed from the model\n",
      "1 states have been removed from the model\n",
      "U: \n",
      "1\n",
      "-\n",
      "s\n",
      "\n",
      "final value: inf\n"
     ]
    },
    {
     "name": "stderr",
     "output_type": "stream",
     "text": [
      "/home/jgoppert/anaconda3/envs/aae301/lib/python3.7/site-packages/control/xferfcn.py:575: RuntimeWarning: divide by zero encountered in double_scalars\n",
      "  polyval(self.den[i][j], s))\n"
     ]
    },
    {
     "data": {
      "image/png": "[encoded data removed]",
      "text/plain": [
       "<Figure size 432x288 with 1 Axes>"
      ]
     },
     "metadata": {
      "needs_background": "light"
     },
     "output_type": "display_data"
    },
    {
     "name": "stdout",
     "output_type": "stream",
     "text": [
      "0 states have been removed from the model\n",
      "1 states have been removed from the model\n",
      "U: \n",
      " 1\n",
      "---\n",
      "s^2\n",
      "\n",
      "final value: inf\n"
     ]
    },
    {
     "data": {
      "image/png": "[encoded data removed]",
      "text/plain": [
       "<Figure size 432x288 with 1 Axes>"
      ]
     },
     "metadata": {
      "needs_background": "light"
     },
     "output_type": "display_data"
    }
   ],
   "source": [
    "for U in [1, 1/s, 1/s**2]:\n",
    "    Y = control.minreal(G2*U)\n",
    "    final_value = np.real(control.minreal(s*Y).horner(0)[0][0])\n",
    "    \n",
    "    print('U:', U)\n",
    "    print('final value:', final_value)\n",
    "    \n",
    "    plt.figure()\n",
    "    t, u = control.impulse_response(U, T=np.linspace(0, 10))\n",
    "    t, y = control.impulse_response(G2*U, T=np.linspace(0, 10))\n",
    "    plt.hlines(final_value, t[0], t[-1], label='asymptote')\n",
    "    plt.plot(t, y, label='y')\n",
    "    plt.plot(t, u, 'r', label='u')\n",
    "    plt.xlabel('t, sec')\n",
    "    plt.ylabel('y')\n",
    "    plt.legend()\n",
    "    plt.grid()\n",
    "    plt.show()"
   ]
  }
 ],
 "metadata": {
  "kernelspec": {
   "display_name": "Python 3",
   "language": "python",
   "name": "python3"
  },
  "language_info": {
   "codemirror_mode": {
    "name": "ipython",
    "version": 3
   },
   "file_extension": ".py",
   "mimetype": "text/x-python",
   "name": "python",
   "nbconvert_exporter": "python",
   "pygments_lexer": "ipython3",
   "version": "3.7.1"
  }
 },
 "nbformat": 4,
 "nbformat_minor": 2
}
